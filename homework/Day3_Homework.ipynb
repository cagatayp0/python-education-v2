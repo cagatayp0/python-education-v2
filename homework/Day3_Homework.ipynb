{
  "nbformat": 4,
  "nbformat_minor": 0,
  "metadata": {
    "colab": {
      "name": "Day3_Homework.ipynb",
      "provenance": []
    },
    "kernelspec": {
      "name": "python3",
      "display_name": "Python 3"
    }
  },
  "cells": [
    {
      "cell_type": "code",
      "metadata": {
        "colab": {
          "base_uri": "https://localhost:8080/"
        },
        "id": "TcFbXS0yQPQW",
        "outputId": "4569d608-a0f0-4145-9720-219534e97f92"
      },
      "source": [
        "user1 = {\"name\":\"muster\", \"password\":\"pass\"}\r\n",
        "type(user1)\r\n",
        "\r\n",
        "x = input(\"please enter name: \")\r\n",
        "y = input(\"please enter password: \")\r\n",
        "\r\n",
        "if x == user1[\"name\"]:\r\n",
        "  if y == user1[\"password\"]:\r\n",
        "    print(\"welcome, you are logged in\")\r\n",
        "  else:\r\n",
        "    print(\"invalid password\")\r\n",
        "\r\n",
        "else:\r\n",
        "  print(\"invalid username\")"
      ],
      "execution_count": 11,
      "outputs": [
        {
          "output_type": "stream",
          "text": [
            "please enter name: muster\n",
            "please enter password: pass\n",
            "welcome, you are logged in\n"
          ],
          "name": "stdout"
        }
      ]
    }
  ]
}