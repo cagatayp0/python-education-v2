{
  "nbformat": 4,
  "nbformat_minor": 0,
  "metadata": {
    "colab": {
      "name": "Day4_Homework.ipynb",
      "provenance": []
    },
    "kernelspec": {
      "name": "python3",
      "display_name": "Python 3"
    }
  },
  "cells": [
    {
      "cell_type": "code",
      "metadata": {
        "colab": {
          "base_uri": "https://localhost:8080/"
        },
        "id": "msidPQQ54EHk",
        "outputId": "42675796-e2a4-4c07-bae4-28039781a982"
      },
      "source": [
        "def PrimeNumberFinder():\r\n",
        "  for i in range(2,100):\r\n",
        "    isPrime = True  \r\n",
        "    for j in range(2,i):\r\n",
        "      if i%j == 0:\r\n",
        "        isPrime = False\r\n",
        "    if isPrime:\r\n",
        "      print(i)\r\n",
        "PrimeNumberFinder()"
      ],
      "execution_count": 97,
      "outputs": [
        {
          "output_type": "stream",
          "text": [
            "2\n",
            "3\n",
            "5\n",
            "7\n",
            "11\n",
            "13\n",
            "17\n",
            "19\n",
            "23\n",
            "29\n",
            "31\n",
            "37\n",
            "41\n",
            "43\n",
            "47\n",
            "53\n",
            "59\n",
            "61\n",
            "67\n",
            "71\n",
            "73\n",
            "79\n",
            "83\n",
            "89\n",
            "97\n"
          ],
          "name": "stdout"
        }
      ]
    }
  ]
}