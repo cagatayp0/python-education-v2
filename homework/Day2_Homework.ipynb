{
  "nbformat": 4,
  "nbformat_minor": 0,
  "metadata": {
    "colab": {
      "name": "Day2_Homework.ipynb",
      "provenance": []
    },
    "kernelspec": {
      "name": "python3",
      "display_name": "Python 3"
    }
  },
  "cells": [
    {
      "cell_type": "markdown",
      "metadata": {
        "id": "mc4HSgDL3KLO"
      },
      "source": [
        "Question 1"
      ]
    },
    {
      "cell_type": "code",
      "metadata": {
        "colab": {
          "base_uri": "https://localhost:8080/"
        },
        "id": "YRwHtuzR2zX9",
        "outputId": "52acefed-48eb-4383-87a3-4302c7f3cd27"
      },
      "source": [
        "list = [1,2,3,4,5,6,7,8,9,10]\r\n",
        "\r\n",
        "list1 = list[0:5]\r\n",
        "list2 = list[5:10]\r\n",
        "\r\n",
        "list3 = list2 + list1\r\n",
        "print(list3)"
      ],
      "execution_count": 5,
      "outputs": [
        {
          "output_type": "stream",
          "text": [
            "[6, 7, 8, 9, 10, 1, 2, 3, 4, 5]\n"
          ],
          "name": "stdout"
        }
      ]
    },
    {
      "cell_type": "markdown",
      "metadata": {
        "id": "jDKsUcEz3NQl"
      },
      "source": [
        "Question 2"
      ]
    },
    {
      "cell_type": "code",
      "metadata": {
        "colab": {
          "base_uri": "https://localhost:8080/"
        },
        "id": "ytt646rP2eQJ",
        "outputId": "f0f53d41-b642-43a2-9afb-6d7e80c8a90f"
      },
      "source": [
        "x = int(input(\"please enter a digit: \"))\r\n",
        "\r\n",
        "i = 0\r\n",
        "\r\n",
        "while i <= x:\r\n",
        "  if i%2 == 0:\r\n",
        "    print(i)\r\n",
        "  i +=1"
      ],
      "execution_count": 3,
      "outputs": [
        {
          "output_type": "stream",
          "text": [
            "please enter a digit: 9\n",
            "0\n",
            "2\n",
            "4\n",
            "6\n",
            "8\n"
          ],
          "name": "stdout"
        }
      ]
    }
  ]
}