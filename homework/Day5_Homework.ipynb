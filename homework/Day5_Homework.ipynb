{
  "nbformat": 4,
  "nbformat_minor": 0,
  "metadata": {
    "colab": {
      "name": "Day5_Homework.ipynb",
      "provenance": [],
      "collapsed_sections": []
    },
    "kernelspec": {
      "name": "python3",
      "display_name": "Python 3"
    }
  },
  "cells": [
    {
      "cell_type": "code",
      "metadata": {
        "id": "FYhMbRs2e7rT"
      },
      "source": [
        "class Animal():\r\n",
        "  def __init__(self, specie, family):\r\n",
        "    self.specie = specie\r\n",
        "    self.family = family\r\n",
        "\r\n",
        "class Dog(Animal):\r\n",
        "  def __init__(self, specie, family, kind):\r\n",
        "    super().__init__(specie, family)\r\n",
        "    self.kind = kind\r\n",
        "\r\n",
        "class Bird(Animal):\r\n",
        "  def __init__(self, specie, family, flyable):\r\n",
        "    super().__init__(specie, family)\r\n",
        "    self.flyable = flyable\r\n"
      ],
      "execution_count": 11,
      "outputs": []
    }
  ]
}